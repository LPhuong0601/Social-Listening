{
  "cells": [
    {
      "cell_type": "code",
      "execution_count": 53,
      "metadata": {
        "id": "9Cvjos6GZ9p0"
      },
      "outputs": [],
      "source": [
        "import torch\n",
        "import numpy as np\n",
        "import csv\n",
        "import matplotlib.pyplot as plt\n",
        "from sklearn.model_selection import train_test_split\n",
        "from tqdm import tqdm"
      ]
    },
    {
      "cell_type": "code",
      "execution_count": 54,
      "metadata": {
        "colab": {
          "base_uri": "https://localhost:8080/"
        },
        "id": "UN6vFJspZ9p3",
        "outputId": "cc0209f5-cab5-4b32-8308-59bace5c63ae"
      },
      "outputs": [
        {
          "name": "stdout",
          "output_type": "stream",
          "text": [
            "Using cpu device\n"
          ]
        }
      ],
      "source": [
        "device = \"cuda\" if torch.cuda.is_available() else \"cpu\"\n",
        "print(f\"Using {device} device\")"
      ]
    },
    {
      "cell_type": "code",
      "execution_count": 55,
      "metadata": {
        "id": "WJ8OsEpjZ9p4"
      },
      "outputs": [],
      "source": [
        "with open(\"C:/Users/User/Documents/Machine Learning/social listening project/tf_idf.csv\", encoding=\"utf-8\") as f:\n",
        "    # đọc file vector, đưa về dạng array[float]\n",
        "    reader = csv.reader(f)\n",
        "    data_list = [row for row in reader]\n",
        "    data_list = np.asarray(data_list[0:5500],dtype=np.float64)\n",
        "    data_list = np.concatenate((np.ones((data_list.shape[0],1)), data_list), axis = 1)"
      ]
    },
    {
      "cell_type": "code",
      "execution_count": 56,
      "metadata": {
        "id": "YgCWIwGYZ9p5"
      },
      "outputs": [],
      "source": [
        "with open(\"C:/Users/User/Documents/Machine Learning/social listening project/Data dùng được.csv\", encoding=\"utf-8\") as f:\n",
        "    reader = csv.reader(f)\n",
        "    label_list = [row for row in reader]\n",
        "    label_list = label_list[0:5500]\n",
        "    # 0 = Ukraina and 1 = Nga\n",
        "    for i in range(0,len(label_list)):\n",
        "        if label_list[i][1]==\"U\":\n",
        "            label_list[i]=0\n",
        "        else: \n",
        "            label_list[i]=1 "
      ]
    },
    {
      "cell_type": "code",
      "execution_count": 57,
      "metadata": {
        "id": "ZT0n4ak8Z9p6"
      },
      "outputs": [],
      "source": [
        "X_train, X_test, y_train, y_test = train_test_split(data_list, label_list, train_size=5000/5500,test_size=500/5500, random_state=0)\n",
        "X_train = torch.tensor(X_train,dtype=torch.float64)\n",
        "X_test = torch.tensor(X_test,dtype=torch.float64)\n",
        "y_train = torch.tensor(y_train,dtype=torch.float64)\n",
        "y_test = torch.tensor(y_test,dtype=torch.float64)"
      ]
    },
    {
      "cell_type": "code",
      "execution_count": 58,
      "metadata": {
        "id": "PvJTcUr4Z9p6"
      },
      "outputs": [],
      "source": [
        "def sigmoid(s):\n",
        "    return (1/(1 + 1e-6 + torch.exp(-s)))"
      ]
    },
    {
      "cell_type": "code",
      "execution_count": 59,
      "metadata": {
        "id": "LBa-Iz5_Z9p7"
      },
      "outputs": [],
      "source": [
        "def loss_function(w,X_train,y_train):\n",
        "    z = sigmoid(torch.matmul(w,X_train.T))\n",
        "    loss = torch.sum(-(y_train*torch.log(z)+(1-y_train)*torch.log(1-z)))\n",
        "    return loss"
      ]
    },
    {
      "cell_type": "code",
      "execution_count": 60,
      "metadata": {},
      "outputs": [],
      "source": [
        "def make_tensor(mini_batch,batch_size):\n",
        "    X_list, y_list = mini_batch\n",
        "    X_mini = X_list[0].reshape(1,-1)\n",
        "    y_mini = y_list[0].reshape(1)\n",
        "    for i in range(1,batch_size):\n",
        "        X_mini = torch.cat((X_mini,X_list[i].reshape(1,-1)),0)\n",
        "        y_mini = torch.cat((y_mini,y_list[i].reshape(1)),0)\n",
        "    return X_mini, y_mini"
      ]
    },
    {
      "cell_type": "code",
      "execution_count": 61,
      "metadata": {},
      "outputs": [],
      "source": [
        "def create_mini_batches(X_train, y_train, batch_size, N):\n",
        "    mini_batches = []\n",
        "    # xáo thứ tự training set\n",
        "    mix_id = torch.randperm(N)\n",
        "    n_minibatches = N // batch_size\n",
        "    i = 0\n",
        "    # lấy các mini_batchs chẵn\n",
        "    for i in range(n_minibatches + 1):\n",
        "        mini_batch = mix_id[i * batch_size:(i + 1)*batch_size]\n",
        "        X_mini = [X_train[j] for j in mini_batch]\n",
        "        y_mini = [y_train[j] for j in mini_batch]\n",
        "        mini_batches.append((X_mini, y_mini))\n",
        "    # lấy một mini_batch gồm các data còn lại\n",
        "    if N % batch_size != 0:\n",
        "        mini_batch = mix_id[i * batch_size + 1:]\n",
        "        X_mini = [X_train[j] for j in mini_batch]\n",
        "        y_mini = [y_train[j] for j in mini_batch]\n",
        "        mini_batches.append((X_mini, y_mini))\n",
        "    mini_batches.pop()\n",
        "    return mini_batches"
      ]
    },
    {
      "cell_type": "code",
      "execution_count": 89,
      "metadata": {
        "id": "Z6qL26PiZ9p8"
      },
      "outputs": [],
      "source": [
        "\n",
        "def logistic_sigmoid_regression(X_train, y_train, w_init, eta, batch_size, tol = 1e-4, max_count = 50000):\n",
        "    w = [w_init]    # vector trọng số\n",
        "    #it = 0\n",
        "    N = X_train.shape[0]  # số data\n",
        "    count = 0   # đến số vong lặp\n",
        "    check_w_after = 100  # check lại w sau mỗi 20 lần lặp\n",
        "    loss_list = [0]\n",
        "    count_list = []\n",
        "    num_batch = N//batch_size\n",
        "    if num_batch*batch_size<N:\n",
        "        num_batch+=1\n",
        "    while count<max_count:\n",
        "        mini_batches = create_mini_batches(X_train, y_train, batch_size, N)\n",
        "        for i in range(num_batch):\n",
        "            X_mini, y_mini = make_tensor(mini_batches[i],batch_size)\n",
        "            z_mini = sigmoid(torch.matmul(w[-1],X_mini.T))\n",
        "            w_new = w[-1] + eta*torch.matmul((y_mini - z_mini),X_mini)\n",
        "            count += 1\n",
        "              \n",
        "            if count%check_w_after == 0:   \n",
        "                print(count,loss_list[-1])  \n",
        "                loss_list.append(loss_function(w_new,X_train,y_train))  \n",
        "                count_list.append(count)\n",
        "                if abs(loss_list[-1]-loss_list[-2])<tol:\n",
        "                    return w[-1],loss_list,count_list\n",
        "            w.append(w_new)\n",
        "    return w[-1],loss_list,count_list"
      ]
    },
    {
      "cell_type": "code",
      "execution_count": 91,
      "metadata": {
        "colab": {
          "base_uri": "https://localhost:8080/"
        },
        "id": "CfWot0d9Z9p8",
        "outputId": "2cd89299-404f-4b71-f92a-301693416dbf"
      },
      "source": [
        "eta = .005  # learning rate = 0.002\n",
        "d = X_train.shape[1]\n",
        "batch_size = 20\n",
        "w_init = torch.randn(d,dtype=torch.float64)  # lấy random một vector w\n",
        "w, loss_list, count_list = logistic_sigmoid_regression(X_train, y_train, w_init, eta, batch_size)\n",
        "w = w.reshape((1,-1))"
      ]
    },
    {
      "cell_type": "code",
      "execution_count": 92,
      "metadata": {},
      "outputs": [],
      "source": [
        "loss = []\n",
        "for i in range(1,len(loss_list)):\n",
        "    loss.append(loss_list[i].item())"
      ]
    },
    {
      "cell_type": "code",
      "execution_count": 93,
      "metadata": {
        "id": "Q3DHc2zDZ9p-"
      },
      "outputs": [
        {
          "data": {
            "text/plain": [
              "[<matplotlib.lines.Line2D at 0x1c001fc8f10>]"
            ]
          },
          "execution_count": 93,
          "metadata": {},
          "output_type": "execute_result"
        },
        {
          "data": {
            "image/png": "[encoded data removed]",
            "text/plain": [
              "<Figure size 432x288 with 1 Axes>"
            ]
          },
          "metadata": {
            "needs_background": "light"
          },
          "output_type": "display_data"
        }
      ],
      "source": [
        "plt.plot(count_list,loss)"
      ]
    },
    {
      "cell_type": "code",
      "execution_count": 86,
      "metadata": {
        "id": "XlsI65CpZ9p-"
      },
      "outputs": [
        {
          "name": "stdout",
          "output_type": "stream",
          "text": [
            "315\n",
            "500\n",
            "0.63\n"
          ]
        }
      ],
      "source": [
        "predict = sigmoid(torch.matmul(w,torch.transpose(X_test,0,1)))\n",
        "count = 0\n",
        "for i in range(0,len(predict[0])):\n",
        "    x = predict[0][i]\n",
        "    y = y_test[i]\n",
        "    s = x + y\n",
        "    if (x + y >=1.5) or (x + y <0.5):\n",
        "        count+=1\n",
        "    #print(\"%.4f\" %predict[0][i],y_test[i])\n",
        "print(count)\n",
        "print(len(y_test))\n",
        "print(count/len(y_test))"
      ]
    }
  ],
  "metadata": {
    "colab": {
      "collapsed_sections": [],
      "name": "6_logicstics_labelRU_pytorch.ipynb",
      "provenance": []
    },
    "kernelspec": {
      "display_name": "Python 3.10.1 64-bit",
      "language": "python",
      "name": "python3"
    },
    "language_info": {
      "codemirror_mode": {
        "name": "ipython",
        "version": 3
      },
      "file_extension": ".py",
      "mimetype": "text/x-python",
      "name": "python",
      "nbconvert_exporter": "python",
      "pygments_lexer": "ipython3",
      "version": "3.10.1"
    },
    "orig_nbformat": 4,
    "vscode": {
      "interpreter": {
        "hash": "afb734500600fd355917ca529030176ea0ca205570884b88f2f6f7d791fd3fbe"
      }
    }
  },
  "nbformat": 4,
  "nbformat_minor": 0
}
