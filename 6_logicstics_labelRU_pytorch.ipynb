{
  "cells": [
    {
      "cell_type": "code",
      "execution_count": 28,
      "metadata": {
        "id": "9Cvjos6GZ9p0"
      },
      "outputs": [],
      "source": [
        "import torch\n",
        "import numpy as np\n",
        "import csv\n",
        "import matplotlib.pyplot as plt\n",
        "from sklearn.model_selection import train_test_split\n",
        "from tqdm import tqdm"
      ]
    },
    {
      "cell_type": "code",
      "execution_count": null,
      "metadata": {
        "colab": {
          "base_uri": "https://localhost:8080/"
        },
        "id": "UN6vFJspZ9p3",
        "outputId": "cc0209f5-cab5-4b32-8308-59bace5c63ae"
      },
      "outputs": [],
      "source": [
        "device = \"cuda\" if torch.cuda.is_available() else \"cpu\"\n",
        "print(f\"Using {device} device\")"
      ]
    },
    {
      "cell_type": "code",
      "execution_count": 30,
      "metadata": {
        "id": "WJ8OsEpjZ9p4"
      },
      "outputs": [],
      "source": [
        "with open(\"C:/Users/User/Documents/Machine Learning/social listening project/tf_idf.csv\", encoding=\"utf-8\") as f:\n",
        "    reader = csv.reader(f)\n",
        "    data_list = [row for row in reader]\n",
        "    data_list = np.asarray(data_list[0:5500],dtype=np.float64)\n",
        "    data_list = np.concatenate((np.ones((data_list.shape[0],1)), data_list), axis = 1)\n",
        "f.close()"
      ]
    },
    {
      "cell_type": "code",
      "execution_count": 31,
      "metadata": {
        "id": "YgCWIwGYZ9p5"
      },
      "outputs": [],
      "source": [
        "with open(\"C:/Users/User/Documents/Machine Learning/social listening project/Data dùng được.csv\", encoding=\"utf-8\") as f:\n",
        "    reader = csv.reader(f)\n",
        "    label_list = [row for row in reader]\n",
        "    label_list = label_list[0:5500]\n",
        "    # 0 = Ukraina and 1 = Nga\n",
        "    for i in range(0,len(label_list)):\n",
        "        if label_list[i][1]==\"U\":\n",
        "            label_list[i]=0\n",
        "        else: \n",
        "            label_list[i]=1 \n",
        "f.close()"
      ]
    },
    {
      "cell_type": "code",
      "execution_count": null,
      "metadata": {
        "id": "ZT0n4ak8Z9p6"
      },
      "outputs": [],
      "source": [
        "X_train, X_test,X_val, y_train, y_test,y_val = train_test_split(data_list, label_list, train_size=7/10,test_size=2/10,val_size=1/10, random_state=0)\n",
        "X_train = torch.tensor(X_train,dtype=torch.float64)\n",
        "X_test = torch.tensor(X_test,dtype=torch.float64)\n",
        "X_val = torch.tensor(X_val,dtype=torch.float64)\n",
        "y_train = torch.tensor(y_train,dtype=torch.float64)\n",
        "y_test = torch.tensor(y_test,dtype=torch.float64)\n",
        "y_val = torch.tensor(y_val,dtype=torch.float64)"
      ]
    },
    {
      "cell_type": "code",
      "execution_count": 33,
      "metadata": {
        "id": "PvJTcUr4Z9p6"
      },
      "outputs": [],
      "source": [
        "def sigmoid(s):\n",
        "    return (1/(1 + 1e-6 + torch.exp(-s)))"
      ]
    },
    {
      "cell_type": "code",
      "execution_count": 34,
      "metadata": {
        "id": "LBa-Iz5_Z9p7"
      },
      "outputs": [],
      "source": [
        "def loss_function(w,X_train,y_train):\n",
        "    z = sigmoid(torch.matmul(w,torch.transpose(X_train,0,1)))\n",
        "    loss = torch.sum(-(y_train*torch.log(z)+(1-y_train)*torch.log(1-z)))\n",
        "    return loss"
      ]
    },
    {
      "cell_type": "code",
      "execution_count": 91,
      "metadata": {
        "id": "Z6qL26PiZ9p8"
      },
      "outputs": [],
      "source": [
        "\n",
        "def logistic_sigmoid_regression(X_train, y_train, w_init, eta,X_val, y_val,tol = 1e-5, max_count = 300000):\n",
        "    w = [w_init]    # vector trọng số\n",
        "    #it = 0\n",
        "    N = X_train.shape[0]  # số đối tượng\n",
        "    count = 0   # đến số vong lặp\n",
        "    check_w_after = 20  # check lại w sau mỗi 20 lần lặp\n",
        "    loss_list = [0]\n",
        "    count_list = []\n",
        "    while count<max_count:\n",
        "        # mix data \n",
        "        mix_id = torch.randperm(N)\n",
        "        # cập nhật w sau mỗi vòng lặp\n",
        "        z = sigmoid(torch.matmul(w[-1],torch.transpose(X_train,0,1)))\n",
        "        for i in mix_id:\n",
        "            # xi = X_train[i]\n",
        "            # yi = y_train[i]\n",
        "            # zi = sigmoid(torch.dot(w[-1],xi))\n",
        "            w_new = w[-1] + eta*(y_train[i] - z[i])*X_train[i]\n",
        "            count += 1\n",
        "            # điều kiện dừng vòng lặp\n",
        "            if count%check_w_after == 0:     \n",
        "                loss_list.append(loss_function(w_new,X_val,y_val)) \n",
        "                count_list.append(count)\n",
        "                print(count,loss_list[-1])\n",
        "                if abs(loss_list[-1]-loss_list[-2])<tol:\n",
        "                    return w[-1],loss_list,count_list\n",
        "            w.append(w_new)\n",
        "    return w[-1],loss_list,count_list"
      ]
    },
    {
      "cell_type": "code",
      "execution_count": null,
      "metadata": {
        "colab": {
          "base_uri": "https://localhost:8080/"
        },
        "id": "CfWot0d9Z9p8",
        "outputId": "2cd89299-404f-4b71-f92a-301693416dbf"
      },
      "outputs": [],
      "source": [
        "eta = .002   # learning rate = 0.01\n",
        "d = X_train.shape[1]\n",
        "w_init = torch.randn(d,dtype=torch.float64)  # lấy random một vector w\n",
        "w, loss_list, count_list = logistic_sigmoid_regression(X_train, y_train, w_init, eta,X_val, y_val)\n",
        "w = w.reshape((1,-1))"
      ]
    },
    {
      "cell_type": "code",
      "execution_count": null,
      "metadata": {
        "id": "Q3DHc2zDZ9p-"
      },
      "outputs": [],
      "source": [
        "plt.plot(count_list,loss_list[1:])"
      ]
    },
    {
      "cell_type": "code",
      "execution_count": null,
      "metadata": {
        "id": "XlsI65CpZ9p-"
      },
      "outputs": [],
      "source": [
        "predict = sigmoid(torch.matmul(w,torch.transpose(X_test,0,1)))\n",
        "count = 0\n",
        "for i in range(0,len(predict[0])):\n",
        "    x = predict[0][i]\n",
        "    y = y_test[i]\n",
        "    if (x + y >=1.5) or (x + y <0.5):\n",
        "        count+=1\n",
        "    #print(\"%.4f\" %predict[0][i],y_test[i])\n",
        "print(count)\n",
        "print(len(y_test))\n",
        "print(count/len(y_test))"
      ]
    },
    {
      "cell_type": "code",
      "execution_count": null,
      "metadata": {},
      "outputs": [],
      "source": [
        "for i in range(0,len(y_test)):\n",
        "    print(y_test[i].item(),\"%.2f\" % predict[0][i].item())"
      ]
    }
  ],
  "metadata": {
    "colab": {
      "collapsed_sections": [],
      "name": "6_logicstics_labelRU_pytorch.ipynb",
      "provenance": []
    },
    "kernelspec": {
      "display_name": "Python 3.9.12 ('lp')",
      "language": "python",
      "name": "python3"
    },
    "language_info": {
      "codemirror_mode": {
        "name": "ipython",
        "version": 3
      },
      "file_extension": ".py",
      "mimetype": "text/x-python",
      "name": "python",
      "nbconvert_exporter": "python",
      "pygments_lexer": "ipython3",
      "version": "3.9.12"
    },
    "orig_nbformat": 4,
    "vscode": {
      "interpreter": {
        "hash": "0cf61435ac65ac02dae65e51d7487e18615b1918e9848794744e271fd52a3ab2"
      }
    }
  },
  "nbformat": 4,
  "nbformat_minor": 0
}
