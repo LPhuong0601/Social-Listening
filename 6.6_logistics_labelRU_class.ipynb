{
 "cells": [
  {
   "cell_type": "code",
   "execution_count": 1,
   "metadata": {},
   "outputs": [],
   "source": [
    "import torch\n",
    "from torch import nn\n",
    "import numpy as np\n",
    "import csv\n",
    "import matplotlib.pyplot as plt\n",
    "import sklearn\n",
    "import sklearn.model_selection as model_selection\n",
    "from tqdm import tqdm"
   ]
  },
  {
   "cell_type": "code",
   "execution_count": 2,
   "metadata": {},
   "outputs": [],
   "source": [
    "with open(\"C:/Users/User/Documents/Machine Learning/social listening project/tf_idf.csv\", encoding=\"utf-8\") as f:\n",
    "    # đọc file vector, đưa về dạng array[float]\n",
    "    reader = csv.reader(f)\n",
    "    data_list = [row for row in reader]\n",
    "    data_list = np.asarray(data_list,dtype=np.float64)"
   ]
  },
  {
   "cell_type": "code",
   "execution_count": 3,
   "metadata": {},
   "outputs": [],
   "source": [
    "with open(\"C:/Users/User/Documents/Machine Learning/social listening project/Data dùng được.csv\", encoding=\"utf-8\") as f:\n",
    "    reader = csv.reader(f)\n",
    "    label_list = [row for row in reader]\n",
    "    label_list = label_list\n",
    "    # 0 = Ukraina and 1 = Nga\n",
    "    for i in range(0,len(label_list)):\n",
    "        if label_list[i][1]==\"U\":\n",
    "            label_list[i]=0\n",
    "        else: \n",
    "            label_list[i]=1"
   ]
  },
  {
   "cell_type": "code",
   "execution_count": 4,
   "metadata": {},
   "outputs": [],
   "source": [
    "X_train, X_test, y_train, y_test = model_selection.train_test_split(data_list, label_list, train_size=85/100,test_size=15/100, random_state=0)\n",
    "# print (\"X_train: \", len(X_train))\n",
    "# print (\"y_train: \", len(y_train))\n",
    "# print(\"X_test: \", len(X_test))\n",
    "# print (\"y_test: \", len(y_test))"
   ]
  },
  {
   "cell_type": "code",
   "execution_count": 86,
   "metadata": {},
   "outputs": [],
   "source": [
    "class NLP(torch.nn.Module):\n",
    "    \n",
    "    def __init__(self, input_dim, output_dim): # input_dim = 6329 output_dim = 1\n",
    "        super(NLP, self).__init__()\n",
    "        # z = w1x1 + w2x2 + ... + wnxn + b = hàm nn.linear\n",
    "        self.linear_relu_stack = nn.Sequential(\n",
    "            nn.Linear(input_dim, output_dim*500),\n",
    "            nn.Sigmoid(),\n",
    "            nn.Linear(output_dim*500, output_dim*100),\n",
    "            nn.Sigmoid(),\n",
    "            nn.Linear(output_dim*100,output_dim*20),\n",
    "            nn.Sigmoid(),\n",
    "            nn.Linear(output_dim*20,output_dim)\n",
    "        )\n",
    "    def forward(self, x):\n",
    "        # x = [5000 x 6329]\n",
    "        # self.linear(x) = [5000 x 1] \n",
    "        # output = y_predict = sigmoid(self.linear(x)) = [5000 x 1]\n",
    "        outputs = torch.sigmoid(self.linear_relu_stack(x))\n",
    "        return outputs"
   ]
  },
  {
   "cell_type": "code",
   "execution_count": 3,
   "metadata": {},
   "outputs": [
    {
     "name": "stdout",
     "output_type": "stream",
     "text": [
      "tensor([[ 0.2913,  0.7440,  0.1501, -1.4122, -0.8911],\n",
      "        [ 0.7348, -0.6032, -0.4588,  0.5571, -0.8974],\n",
      "        [-0.3789, -0.2151,  0.7571, -0.6171,  0.7475],\n",
      "        [-0.8846,  2.0272,  1.3109, -0.1417,  0.9968]])\n",
      "tensor([[ 0.3642,  0.9300,  0.0000, -1.7653, -1.1139],\n",
      "        [ 0.0000, -0.7540, -0.0000,  0.6964, -1.1217],\n",
      "        [-0.4736, -0.2689,  0.9463, -0.0000,  0.9344],\n",
      "        [-1.1057,  2.5340,  1.6387, -0.0000,  1.2459]])\n"
     ]
    }
   ],
   "source": [
    "m = nn.Dropout(p=0.2)\n",
    "input = torch.randn(4, 5)\n",
    "print(input)\n",
    "output = m(input)\n",
    "print(output)"
   ]
  },
  {
   "cell_type": "code",
   "execution_count": null,
   "metadata": {},
   "outputs": [],
   "source": [
    "\"\"\"\n",
    "optimizer Adam\n",
    "Đảo data lên\n",
    "Chia mini-batch\n",
    "Thử dropout\n",
    "Tăng lên 20 layer\n",
    "giảm epoch xuống 100\n",
    "\n",
    "\"\"\""
   ]
  },
  {
   "cell_type": "code",
   "execution_count": 87,
   "metadata": {},
   "outputs": [],
   "source": [
    "epochs = 5000\n",
    "input_dim = len(X_train[0])\n",
    "output_dim = 1 # đầu ra là số trong khoảng 0\n",
    "learning_rate = 0.01"
   ]
  },
  {
   "cell_type": "code",
   "execution_count": 88,
   "metadata": {},
   "outputs": [],
   "source": [
    "model = NLP(input_dim,output_dim)\n",
    "loss_function = torch.nn.BCELoss() # binary cross entropy loss\n",
    "optimizer = torch.optim.GD(model.parameters(), lr=learning_rate)"
   ]
  },
  {
   "cell_type": "code",
   "execution_count": 5,
   "metadata": {},
   "outputs": [],
   "source": [
    "X_train, X_test = torch.tensor(X_train,dtype=torch.float32),torch.tensor(X_test,dtype=torch.float32)\n",
    "y_train, y_test = torch.tensor(y_train,dtype=torch.float32),torch.tensor(y_test,dtype=torch.float32)"
   ]
  },
  {
   "cell_type": "code",
   "execution_count": 6,
   "metadata": {},
   "outputs": [
    {
     "name": "stdout",
     "output_type": "stream",
     "text": [
      "tensor([[0., 0., 0.,  ..., 0., 0., 0.],\n",
      "        [0., 0., 0.,  ..., 0., 0., 0.],\n",
      "        [0., 0., 0.,  ..., 0., 0., 0.],\n",
      "        ...,\n",
      "        [0., 0., 0.,  ..., 0., 0., 0.],\n",
      "        [0., 0., 0.,  ..., 0., 0., 0.],\n",
      "        [0., 0., 0.,  ..., 0., 0., 0.]])\n"
     ]
    }
   ],
   "source": [
    "print(X_train)"
   ]
  },
  {
   "cell_type": "code",
   "execution_count": 90,
   "metadata": {},
   "outputs": [
    {
     "name": "stderr",
     "output_type": "stream",
     "text": [
      "Training Epochs:   2%|▏         | 100/5000 [01:19<56:55,  1.43it/s] "
     ]
    },
    {
     "name": "stdout",
     "output_type": "stream",
     "text": [
      "Iteration: 100. \n",
      "Test - Loss: 0.6066007614135742. Accuracy: 71.01616628175519\n",
      "Train -  Loss: 0.6053863763809204. Accuracy: 71.21304791029561\n"
     ]
    },
    {
     "name": "stderr",
     "output_type": "stream",
     "text": [
      "Training Epochs:   4%|▍         | 200/5000 [02:29<51:12,  1.56it/s]  "
     ]
    },
    {
     "name": "stdout",
     "output_type": "stream",
     "text": [
      "Iteration: 200. \n",
      "Test - Loss: 0.6022196412086487. Accuracy: 71.01616628175519\n",
      "Train -  Loss: 0.6005480289459229. Accuracy: 71.21304791029561\n"
     ]
    },
    {
     "name": "stderr",
     "output_type": "stream",
     "text": [
      "Training Epochs:   6%|▌         | 300/5000 [03:30<48:55,  1.60it/s]"
     ]
    },
    {
     "name": "stdout",
     "output_type": "stream",
     "text": [
      "Iteration: 300. \n",
      "Test - Loss: 0.6020126938819885. Accuracy: 71.01616628175519\n",
      "Train -  Loss: 0.6002529263496399. Accuracy: 71.21304791029561\n"
     ]
    },
    {
     "name": "stderr",
     "output_type": "stream",
     "text": [
      "Training Epochs:   8%|▊         | 400/5000 [04:31<47:17,  1.62it/s]"
     ]
    },
    {
     "name": "stdout",
     "output_type": "stream",
     "text": [
      "Iteration: 400. \n",
      "Test - Loss: 0.6020147800445557. Accuracy: 71.01616628175519\n",
      "Train -  Loss: 0.6002342104911804. Accuracy: 71.21304791029561\n"
     ]
    },
    {
     "name": "stderr",
     "output_type": "stream",
     "text": [
      "Training Epochs:  10%|█         | 500/5000 [05:33<47:28,  1.58it/s]"
     ]
    },
    {
     "name": "stdout",
     "output_type": "stream",
     "text": [
      "Iteration: 500. \n",
      "Test - Loss: 0.6020186543464661. Accuracy: 71.01616628175519\n",
      "Train -  Loss: 0.6002327799797058. Accuracy: 71.21304791029561\n"
     ]
    },
    {
     "name": "stderr",
     "output_type": "stream",
     "text": [
      "Training Epochs:  12%|█▏        | 600/5000 [06:36<48:10,  1.52it/s]"
     ]
    },
    {
     "name": "stdout",
     "output_type": "stream",
     "text": [
      "Iteration: 600. \n",
      "Test - Loss: 0.6020198464393616. Accuracy: 71.01616628175519\n",
      "Train -  Loss: 0.6002326011657715. Accuracy: 71.21304791029561\n"
     ]
    },
    {
     "name": "stderr",
     "output_type": "stream",
     "text": [
      "Training Epochs:  14%|█▍        | 700/5000 [07:36<45:09,  1.59it/s]"
     ]
    },
    {
     "name": "stdout",
     "output_type": "stream",
     "text": [
      "Iteration: 700. \n",
      "Test - Loss: 0.6020201444625854. Accuracy: 71.01616628175519\n",
      "Train -  Loss: 0.6002325415611267. Accuracy: 71.21304791029561\n"
     ]
    },
    {
     "name": "stderr",
     "output_type": "stream",
     "text": [
      "Training Epochs:  16%|█▌        | 800/5000 [08:38<43:26,  1.61it/s]"
     ]
    },
    {
     "name": "stdout",
     "output_type": "stream",
     "text": [
      "Iteration: 800. \n",
      "Test - Loss: 0.6020200252532959. Accuracy: 71.01616628175519\n",
      "Train -  Loss: 0.6002324223518372. Accuracy: 71.21304791029561\n"
     ]
    },
    {
     "name": "stderr",
     "output_type": "stream",
     "text": [
      "Training Epochs:  18%|█▊        | 900/5000 [09:39<42:06,  1.62it/s]"
     ]
    },
    {
     "name": "stdout",
     "output_type": "stream",
     "text": [
      "Iteration: 900. \n",
      "Test - Loss: 0.6020201444625854. Accuracy: 71.01616628175519\n",
      "Train -  Loss: 0.6002323031425476. Accuracy: 71.21304791029561\n"
     ]
    },
    {
     "name": "stderr",
     "output_type": "stream",
     "text": [
      "Training Epochs:  20%|██        | 1000/5000 [10:39<40:01,  1.67it/s]"
     ]
    },
    {
     "name": "stdout",
     "output_type": "stream",
     "text": [
      "Iteration: 1000. \n",
      "Test - Loss: 0.6020200252532959. Accuracy: 71.01616628175519\n",
      "Train -  Loss: 0.6002322435379028. Accuracy: 71.21304791029561\n"
     ]
    },
    {
     "name": "stderr",
     "output_type": "stream",
     "text": [
      "Training Epochs:  22%|██▏       | 1100/5000 [11:38<39:56,  1.63it/s]"
     ]
    },
    {
     "name": "stdout",
     "output_type": "stream",
     "text": [
      "Iteration: 1100. \n",
      "Test - Loss: 0.6020200252532959. Accuracy: 71.01616628175519\n",
      "Train -  Loss: 0.6002321243286133. Accuracy: 71.21304791029561\n"
     ]
    },
    {
     "name": "stderr",
     "output_type": "stream",
     "text": [
      "Training Epochs:  24%|██▍       | 1200/5000 [12:36<35:26,  1.79it/s]"
     ]
    },
    {
     "name": "stdout",
     "output_type": "stream",
     "text": [
      "Iteration: 1200. \n",
      "Test - Loss: 0.6020199656486511. Accuracy: 71.01616628175519\n",
      "Train -  Loss: 0.6002320051193237. Accuracy: 71.21304791029561\n"
     ]
    },
    {
     "name": "stderr",
     "output_type": "stream",
     "text": [
      "Training Epochs:  26%|██▌       | 1300/5000 [13:29<34:23,  1.79it/s]"
     ]
    },
    {
     "name": "stdout",
     "output_type": "stream",
     "text": [
      "Iteration: 1300. \n",
      "Test - Loss: 0.6020199656486511. Accuracy: 71.01616628175519\n",
      "Train -  Loss: 0.600231945514679. Accuracy: 71.21304791029561\n"
     ]
    },
    {
     "name": "stderr",
     "output_type": "stream",
     "text": [
      "Training Epochs:  28%|██▊       | 1400/5000 [14:23<33:30,  1.79it/s]"
     ]
    },
    {
     "name": "stdout",
     "output_type": "stream",
     "text": [
      "Iteration: 1400. \n",
      "Test - Loss: 0.6020198464393616. Accuracy: 71.01616628175519\n",
      "Train -  Loss: 0.6002317667007446. Accuracy: 71.21304791029561\n"
     ]
    },
    {
     "name": "stderr",
     "output_type": "stream",
     "text": [
      "Training Epochs:  30%|███       | 1500/5000 [15:16<31:00,  1.88it/s]"
     ]
    },
    {
     "name": "stdout",
     "output_type": "stream",
     "text": [
      "Iteration: 1500. \n",
      "Test - Loss: 0.6020198464393616. Accuracy: 71.01616628175519\n",
      "Train -  Loss: 0.6002317070960999. Accuracy: 71.21304791029561\n"
     ]
    },
    {
     "name": "stderr",
     "output_type": "stream",
     "text": [
      "Training Epochs:  32%|███▏      | 1600/5000 [16:08<28:29,  1.99it/s]"
     ]
    },
    {
     "name": "stdout",
     "output_type": "stream",
     "text": [
      "Iteration: 1600. \n",
      "Test - Loss: 0.6020197868347168. Accuracy: 71.01616628175519\n",
      "Train -  Loss: 0.6002315878868103. Accuracy: 71.21304791029561\n"
     ]
    },
    {
     "name": "stderr",
     "output_type": "stream",
     "text": [
      "Training Epochs:  34%|███▍      | 1700/5000 [17:00<31:15,  1.76it/s]"
     ]
    },
    {
     "name": "stdout",
     "output_type": "stream",
     "text": [
      "Iteration: 1700. \n",
      "Test - Loss: 0.6020197868347168. Accuracy: 71.01616628175519\n",
      "Train -  Loss: 0.6002314686775208. Accuracy: 71.21304791029561\n"
     ]
    },
    {
     "name": "stderr",
     "output_type": "stream",
     "text": [
      "Training Epochs:  36%|███▌      | 1800/5000 [17:57<29:29,  1.81it/s]"
     ]
    },
    {
     "name": "stdout",
     "output_type": "stream",
     "text": [
      "Iteration: 1800. \n",
      "Test - Loss: 0.6020196080207825. Accuracy: 71.01616628175519\n",
      "Train -  Loss: 0.6002313494682312. Accuracy: 71.21304791029561\n"
     ]
    },
    {
     "name": "stderr",
     "output_type": "stream",
     "text": [
      "Training Epochs:  38%|███▊      | 1900/5000 [18:52<29:33,  1.75it/s]"
     ]
    },
    {
     "name": "stdout",
     "output_type": "stream",
     "text": [
      "Iteration: 1900. \n",
      "Test - Loss: 0.6020196080207825. Accuracy: 71.01616628175519\n",
      "Train -  Loss: 0.6002312302589417. Accuracy: 71.21304791029561\n"
     ]
    },
    {
     "name": "stderr",
     "output_type": "stream",
     "text": [
      "Training Epochs:  40%|████      | 2000/5000 [19:43<26:11,  1.91it/s]"
     ]
    },
    {
     "name": "stdout",
     "output_type": "stream",
     "text": [
      "Iteration: 2000. \n",
      "Test - Loss: 0.6020195484161377. Accuracy: 71.01616628175519\n",
      "Train -  Loss: 0.6002311706542969. Accuracy: 71.21304791029561\n"
     ]
    },
    {
     "name": "stderr",
     "output_type": "stream",
     "text": [
      "Training Epochs:  42%|████▏     | 2100/5000 [20:38<27:46,  1.74it/s]"
     ]
    },
    {
     "name": "stdout",
     "output_type": "stream",
     "text": [
      "Iteration: 2100. \n",
      "Test - Loss: 0.6020195484161377. Accuracy: 71.01616628175519\n",
      "Train -  Loss: 0.6002310514450073. Accuracy: 71.21304791029561\n"
     ]
    },
    {
     "name": "stderr",
     "output_type": "stream",
     "text": [
      "Training Epochs:  44%|████▍     | 2200/5000 [21:33<27:25,  1.70it/s]"
     ]
    },
    {
     "name": "stdout",
     "output_type": "stream",
     "text": [
      "Iteration: 2200. \n",
      "Test - Loss: 0.6020194888114929. Accuracy: 71.01616628175519\n",
      "Train -  Loss: 0.600230872631073. Accuracy: 71.21304791029561\n"
     ]
    },
    {
     "name": "stderr",
     "output_type": "stream",
     "text": [
      "Training Epochs:  46%|████▌     | 2300/5000 [22:27<23:48,  1.89it/s]"
     ]
    },
    {
     "name": "stdout",
     "output_type": "stream",
     "text": [
      "Iteration: 2300. \n",
      "Test - Loss: 0.6020194292068481. Accuracy: 71.01616628175519\n",
      "Train -  Loss: 0.600230872631073. Accuracy: 71.21304791029561\n"
     ]
    },
    {
     "name": "stderr",
     "output_type": "stream",
     "text": [
      "Training Epochs:  48%|████▊     | 2400/5000 [23:20<23:28,  1.85it/s]"
     ]
    },
    {
     "name": "stdout",
     "output_type": "stream",
     "text": [
      "Iteration: 2400. \n",
      "Test - Loss: 0.6020194292068481. Accuracy: 71.01616628175519\n",
      "Train -  Loss: 0.6002307534217834. Accuracy: 71.21304791029561\n"
     ]
    },
    {
     "name": "stderr",
     "output_type": "stream",
     "text": [
      "Training Epochs:  50%|█████     | 2500/5000 [24:12<22:54,  1.82it/s]"
     ]
    },
    {
     "name": "stdout",
     "output_type": "stream",
     "text": [
      "Iteration: 2500. \n",
      "Test - Loss: 0.6020193696022034. Accuracy: 71.01616628175519\n",
      "Train -  Loss: 0.6002306342124939. Accuracy: 71.21304791029561\n"
     ]
    },
    {
     "name": "stderr",
     "output_type": "stream",
     "text": [
      "Training Epochs:  52%|█████▏    | 2600/5000 [25:05<21:26,  1.87it/s]"
     ]
    },
    {
     "name": "stdout",
     "output_type": "stream",
     "text": [
      "Iteration: 2600. \n",
      "Test - Loss: 0.6020192503929138. Accuracy: 71.01616628175519\n",
      "Train -  Loss: 0.6002305150032043. Accuracy: 71.21304791029561\n"
     ]
    },
    {
     "name": "stderr",
     "output_type": "stream",
     "text": [
      "Training Epochs:  54%|█████▍    | 2700/5000 [25:59<21:00,  1.82it/s]"
     ]
    },
    {
     "name": "stdout",
     "output_type": "stream",
     "text": [
      "Iteration: 2700. \n",
      "Test - Loss: 0.6020192503929138. Accuracy: 71.01616628175519\n",
      "Train -  Loss: 0.6002303957939148. Accuracy: 71.21304791029561\n"
     ]
    },
    {
     "name": "stderr",
     "output_type": "stream",
     "text": [
      "Training Epochs:  56%|█████▌    | 2800/5000 [26:53<21:17,  1.72it/s]"
     ]
    },
    {
     "name": "stdout",
     "output_type": "stream",
     "text": [
      "Iteration: 2800. \n",
      "Test - Loss: 0.602019190788269. Accuracy: 71.01616628175519\n",
      "Train -  Loss: 0.6002302765846252. Accuracy: 71.21304791029561\n"
     ]
    },
    {
     "name": "stderr",
     "output_type": "stream",
     "text": [
      "Training Epochs:  58%|█████▊    | 2900/5000 [27:49<18:56,  1.85it/s]"
     ]
    },
    {
     "name": "stdout",
     "output_type": "stream",
     "text": [
      "Iteration: 2900. \n",
      "Test - Loss: 0.6020191311836243. Accuracy: 71.01616628175519\n",
      "Train -  Loss: 0.6002302169799805. Accuracy: 71.21304791029561\n"
     ]
    },
    {
     "name": "stderr",
     "output_type": "stream",
     "text": [
      "Training Epochs:  60%|██████    | 3000/5000 [28:43<17:39,  1.89it/s]"
     ]
    },
    {
     "name": "stdout",
     "output_type": "stream",
     "text": [
      "Iteration: 3000. \n",
      "Test - Loss: 0.6020191311836243. Accuracy: 71.01616628175519\n",
      "Train -  Loss: 0.6002300977706909. Accuracy: 71.21304791029561\n"
     ]
    },
    {
     "name": "stderr",
     "output_type": "stream",
     "text": [
      "Training Epochs:  62%|██████▏   | 3100/5000 [29:36<17:54,  1.77it/s]"
     ]
    },
    {
     "name": "stdout",
     "output_type": "stream",
     "text": [
      "Iteration: 3100. \n",
      "Test - Loss: 0.6020191311836243. Accuracy: 71.01616628175519\n",
      "Train -  Loss: 0.6002299785614014. Accuracy: 71.21304791029561\n"
     ]
    },
    {
     "name": "stderr",
     "output_type": "stream",
     "text": [
      "Training Epochs:  64%|██████▍   | 3200/5000 [30:30<17:03,  1.76it/s]"
     ]
    },
    {
     "name": "stdout",
     "output_type": "stream",
     "text": [
      "Iteration: 3200. \n",
      "Test - Loss: 0.6020190119743347. Accuracy: 71.01616628175519\n",
      "Train -  Loss: 0.6002298593521118. Accuracy: 71.21304791029561\n"
     ]
    },
    {
     "name": "stderr",
     "output_type": "stream",
     "text": [
      "Training Epochs:  66%|██████▌   | 3300/5000 [31:22<15:24,  1.84it/s]"
     ]
    },
    {
     "name": "stdout",
     "output_type": "stream",
     "text": [
      "Iteration: 3300. \n",
      "Test - Loss: 0.6020190119743347. Accuracy: 71.01616628175519\n",
      "Train -  Loss: 0.6002296805381775. Accuracy: 71.21304791029561\n"
     ]
    },
    {
     "name": "stderr",
     "output_type": "stream",
     "text": [
      "Training Epochs:  68%|██████▊   | 3400/5000 [32:15<15:02,  1.77it/s]"
     ]
    },
    {
     "name": "stdout",
     "output_type": "stream",
     "text": [
      "Iteration: 3400. \n",
      "Test - Loss: 0.6020189523696899. Accuracy: 71.01616628175519\n",
      "Train -  Loss: 0.6002296805381775. Accuracy: 71.21304791029561\n"
     ]
    },
    {
     "name": "stderr",
     "output_type": "stream",
     "text": [
      "Training Epochs:  70%|███████   | 3500/5000 [39:38<14:36,  1.71it/s]    "
     ]
    },
    {
     "name": "stdout",
     "output_type": "stream",
     "text": [
      "Iteration: 3500. \n",
      "Test - Loss: 0.6020189523696899. Accuracy: 71.01616628175519\n",
      "Train -  Loss: 0.6002295613288879. Accuracy: 71.21304791029561\n"
     ]
    },
    {
     "name": "stderr",
     "output_type": "stream",
     "text": [
      "Training Epochs:  72%|███████▏  | 3600/5000 [40:35<13:46,  1.69it/s]"
     ]
    },
    {
     "name": "stdout",
     "output_type": "stream",
     "text": [
      "Iteration: 3600. \n",
      "Test - Loss: 0.6020188331604004. Accuracy: 71.01616628175519\n",
      "Train -  Loss: 0.6002293825149536. Accuracy: 71.21304791029561\n"
     ]
    },
    {
     "name": "stderr",
     "output_type": "stream",
     "text": [
      "Training Epochs:  74%|███████▍  | 3700/5000 [41:34<12:35,  1.72it/s]"
     ]
    },
    {
     "name": "stdout",
     "output_type": "stream",
     "text": [
      "Iteration: 3700. \n",
      "Test - Loss: 0.6020187735557556. Accuracy: 71.01616628175519\n",
      "Train -  Loss: 0.6002293229103088. Accuracy: 71.21304791029561\n"
     ]
    },
    {
     "name": "stderr",
     "output_type": "stream",
     "text": [
      "Training Epochs:  76%|███████▌  | 3800/5000 [42:30<11:36,  1.72it/s]"
     ]
    },
    {
     "name": "stdout",
     "output_type": "stream",
     "text": [
      "Iteration: 3800. \n",
      "Test - Loss: 0.6020187139511108. Accuracy: 71.01616628175519\n",
      "Train -  Loss: 0.6002292633056641. Accuracy: 71.21304791029561\n"
     ]
    },
    {
     "name": "stderr",
     "output_type": "stream",
     "text": [
      "Training Epochs:  78%|███████▊  | 3900/5000 [43:30<15:29,  1.18it/s]"
     ]
    },
    {
     "name": "stdout",
     "output_type": "stream",
     "text": [
      "Iteration: 3900. \n",
      "Test - Loss: 0.6020187139511108. Accuracy: 71.01616628175519\n",
      "Train -  Loss: 0.6002290844917297. Accuracy: 71.21304791029561\n"
     ]
    },
    {
     "name": "stderr",
     "output_type": "stream",
     "text": [
      "Training Epochs:  80%|████████  | 4000/5000 [44:30<10:02,  1.66it/s]"
     ]
    },
    {
     "name": "stdout",
     "output_type": "stream",
     "text": [
      "Iteration: 4000. \n",
      "Test - Loss: 0.6020186543464661. Accuracy: 71.01616628175519\n",
      "Train -  Loss: 0.600229024887085. Accuracy: 71.21304791029561\n"
     ]
    },
    {
     "name": "stderr",
     "output_type": "stream",
     "text": [
      "Training Epochs:  82%|████████▏ | 4100/5000 [45:28<09:20,  1.60it/s]"
     ]
    },
    {
     "name": "stdout",
     "output_type": "stream",
     "text": [
      "Iteration: 4100. \n",
      "Test - Loss: 0.6020186543464661. Accuracy: 71.01616628175519\n",
      "Train -  Loss: 0.6002289056777954. Accuracy: 71.21304791029561\n"
     ]
    },
    {
     "name": "stderr",
     "output_type": "stream",
     "text": [
      "Training Epochs:  84%|████████▍ | 4200/5000 [46:30<08:32,  1.56it/s]"
     ]
    },
    {
     "name": "stdout",
     "output_type": "stream",
     "text": [
      "Iteration: 4200. \n",
      "Test - Loss: 0.6020184755325317. Accuracy: 71.01616628175519\n",
      "Train -  Loss: 0.6002287864685059. Accuracy: 71.21304791029561\n"
     ]
    },
    {
     "name": "stderr",
     "output_type": "stream",
     "text": [
      "Training Epochs:  86%|████████▌ | 4300/5000 [47:32<08:07,  1.43it/s]"
     ]
    },
    {
     "name": "stdout",
     "output_type": "stream",
     "text": [
      "Iteration: 4300. \n",
      "Test - Loss: 0.6020184755325317. Accuracy: 71.01616628175519\n",
      "Train -  Loss: 0.6002287268638611. Accuracy: 71.21304791029561\n"
     ]
    },
    {
     "name": "stderr",
     "output_type": "stream",
     "text": [
      "Training Epochs:  88%|████████▊ | 4400/5000 [48:32<06:32,  1.53it/s]"
     ]
    },
    {
     "name": "stdout",
     "output_type": "stream",
     "text": [
      "Iteration: 4400. \n",
      "Test - Loss: 0.6020184755325317. Accuracy: 71.01616628175519\n",
      "Train -  Loss: 0.6002285480499268. Accuracy: 71.21304791029561\n"
     ]
    },
    {
     "name": "stderr",
     "output_type": "stream",
     "text": [
      "Training Epochs:  90%|█████████ | 4500/5000 [49:38<05:10,  1.61it/s]"
     ]
    },
    {
     "name": "stdout",
     "output_type": "stream",
     "text": [
      "Iteration: 4500. \n",
      "Test - Loss: 0.602018415927887. Accuracy: 71.01616628175519\n",
      "Train -  Loss: 0.600228488445282. Accuracy: 71.21304791029561\n"
     ]
    },
    {
     "name": "stderr",
     "output_type": "stream",
     "text": [
      "Training Epochs:  92%|█████████▏| 4600/5000 [50:40<04:18,  1.55it/s]"
     ]
    },
    {
     "name": "stdout",
     "output_type": "stream",
     "text": [
      "Iteration: 4600. \n",
      "Test - Loss: 0.6020183563232422. Accuracy: 71.01616628175519\n",
      "Train -  Loss: 0.6002283692359924. Accuracy: 71.21304791029561\n"
     ]
    },
    {
     "name": "stderr",
     "output_type": "stream",
     "text": [
      "Training Epochs:  94%|█████████▍| 4700/5000 [51:43<03:10,  1.58it/s]"
     ]
    },
    {
     "name": "stdout",
     "output_type": "stream",
     "text": [
      "Iteration: 4700. \n",
      "Test - Loss: 0.6020183563232422. Accuracy: 71.01616628175519\n",
      "Train -  Loss: 0.6002283096313477. Accuracy: 71.21304791029561\n"
     ]
    },
    {
     "name": "stderr",
     "output_type": "stream",
     "text": [
      "Training Epochs:  96%|█████████▌| 4800/5000 [52:48<02:24,  1.39it/s]"
     ]
    },
    {
     "name": "stdout",
     "output_type": "stream",
     "text": [
      "Iteration: 4800. \n",
      "Test - Loss: 0.6020182371139526. Accuracy: 71.01616628175519\n",
      "Train -  Loss: 0.6002281904220581. Accuracy: 71.21304791029561\n"
     ]
    },
    {
     "name": "stderr",
     "output_type": "stream",
     "text": [
      "Training Epochs:  98%|█████████▊| 4900/5000 [53:50<01:04,  1.56it/s]"
     ]
    },
    {
     "name": "stdout",
     "output_type": "stream",
     "text": [
      "Iteration: 4900. \n",
      "Test - Loss: 0.6020182371139526. Accuracy: 71.01616628175519\n",
      "Train -  Loss: 0.6002280116081238. Accuracy: 71.21304791029561\n"
     ]
    },
    {
     "name": "stderr",
     "output_type": "stream",
     "text": [
      "Training Epochs: 100%|██████████| 5000/5000 [54:53<00:00,  1.52it/s]"
     ]
    },
    {
     "name": "stdout",
     "output_type": "stream",
     "text": [
      "Iteration: 5000. \n",
      "Test - Loss: 0.6020181775093079. Accuracy: 71.01616628175519\n",
      "Train -  Loss: 0.6002278923988342. Accuracy: 71.21304791029561\n"
     ]
    },
    {
     "name": "stderr",
     "output_type": "stream",
     "text": [
      "\n"
     ]
    }
   ],
   "source": [
    "losses = []\n",
    "losses_test = []\n",
    "Iterations = []\n",
    "iter = 0\n",
    "for epoch in tqdm((range(epochs)),desc='Training Epochs'):\n",
    "    x = X_train\n",
    "    labels = y_train\n",
    "    optimizer.zero_grad()   # đặt gradient về 0\n",
    "    outputs = model(X_train)    # train \n",
    "    # torch.squeeze() đưa [5000 x 1] về [5000]\n",
    "    loss = loss_function(torch.squeeze(outputs), labels) # tính loss\n",
    "    loss.backward() # tính gradient của w\n",
    "    optimizer.step() # cập nhật w\n",
    "    \n",
    "    iter+=1\n",
    "    if iter%100==0:   # kiểm tra mỗi 10000 epoch\n",
    "        with torch.no_grad():   # không tính gradient\n",
    "            # tính loss và độ chính xác cho test_set\n",
    "            outputs_test = torch.squeeze(model(X_test)) # dãy xác suất dự đoán vd(0.51 0.76 0.01)\n",
    "            loss_test = loss_function(outputs_test, y_test)\n",
    "            \n",
    "            predicted = outputs_test.round().detach().numpy()  # làm tròn và chuyển thành array\n",
    "            total_test = y_test.size(0) # số test sample\n",
    "            correct_test = np.sum(predicted == y_test.detach().numpy()) # số sample dự đoán đúng\n",
    "            accuracy_test = 100 * correct_test/total_test\n",
    "            losses_test.append(loss_test.item())\n",
    "            \n",
    "            # tính loss và độ chính xác cho training_set           \n",
    "            total = y_train.size(0)\n",
    "            correct = np.sum(torch.squeeze(outputs).round().detach().numpy() == y_train.detach().numpy())\n",
    "            accuracy = 100 * correct/total\n",
    "            losses.append(loss.item())\n",
    "            Iterations.append(iter)\n",
    "            \n",
    "            print(f\"Iteration: {iter}. \\nTest - Loss: {loss_test.item()}. Accuracy: {accuracy_test}\")\n",
    "            print(f\"Train -  Loss: {loss.item()}. Accuracy: {accuracy}\")"
   ]
  },
  {
   "cell_type": "code",
   "execution_count": 91,
   "metadata": {},
   "outputs": [
    {
     "data": {
      "text/plain": [
       "[<matplotlib.lines.Line2D at 0x19e7b61d7e0>]"
      ]
     },
     "execution_count": 91,
     "metadata": {},
     "output_type": "execute_result"
    },
    {
     "data": {
      "image/png": "[encoded data removed]",
      "text/plain": [
       "<Figure size 432x288 with 1 Axes>"
      ]
     },
     "metadata": {
      "needs_background": "light"
     },
     "output_type": "display_data"
    }
   ],
   "source": [
    "plt.plot(Iterations,losses_test)\n",
    "plt.plot(Iterations,losses)"
   ]
  }
 ],
 "metadata": {
  "kernelspec": {
   "display_name": "Python 3.10.1 64-bit",
   "language": "python",
   "name": "python3"
  },
  "language_info": {
   "codemirror_mode": {
    "name": "ipython",
    "version": 3
   },
   "file_extension": ".py",
   "mimetype": "text/x-python",
   "name": "python",
   "nbconvert_exporter": "python",
   "pygments_lexer": "ipython3",
   "version": "3.10.1"
  },
  "orig_nbformat": 4,
  "vscode": {
   "interpreter": {
    "hash": "afb734500600fd355917ca529030176ea0ca205570884b88f2f6f7d791fd3fbe"
   }
  }
 },
 "nbformat": 4,
 "nbformat_minor": 2
}
