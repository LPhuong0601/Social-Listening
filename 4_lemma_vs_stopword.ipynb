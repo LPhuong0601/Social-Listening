{
 "cells": [
  {
   "cell_type": "markdown",
   "metadata": {},
   "source": [
    "Lemmatization vs Stopword\n"
   ]
  },
  {
   "cell_type": "code",
   "execution_count": 8,
   "metadata": {},
   "outputs": [
    {
     "name": "stderr",
     "output_type": "stream",
     "text": [
      "[nltk_data] Downloading package averaged_perceptron_tagger to\n",
      "[nltk_data]     C:\\Users\\User\\AppData\\Roaming\\nltk_data...\n",
      "[nltk_data]   Package averaged_perceptron_tagger is already up-to-\n",
      "[nltk_data]       date!\n",
      "[nltk_data] Downloading package stopwords to\n",
      "[nltk_data]     C:\\Users\\User\\AppData\\Roaming\\nltk_data...\n",
      "[nltk_data]   Package stopwords is already up-to-date!\n"
     ]
    }
   ],
   "source": [
    "import nltk\n",
    "from nltk.stem import WordNetLemmatizer\n",
    "nltk.download('averaged_perceptron_tagger')\n",
    "from nltk.corpus import wordnet\n",
    "from nltk.corpus import stopwords\n",
    "nltk.download('stopwords')\n",
    "lemmatizer = WordNetLemmatizer()\n",
    "import csv\n",
    "# kho từ tiếng anh\n",
    "import re\n",
    "from nltk.corpus import brown\n"
   ]
  },
  {
   "cell_type": "code",
   "execution_count": 9,
   "metadata": {},
   "outputs": [],
   "source": [
    "# lấy danh sách stopword\n",
    "stop = set(stopwords.words('english'))"
   ]
  },
  {
   "cell_type": "code",
   "execution_count": 10,
   "metadata": {},
   "outputs": [],
   "source": [
    "# gắn thẻ các loại từ\n",
    "def pos_tagger(nltk_tag):\n",
    "    if nltk_tag.startswith('J'):\n",
    "        return wordnet.ADJ\n",
    "    elif nltk_tag.startswith('V'):\n",
    "        return wordnet.VERB\n",
    "    elif nltk_tag.startswith('N'):\n",
    "        return wordnet.NOUN\n",
    "    elif nltk_tag.startswith('R'):\n",
    "        return wordnet.ADV\n",
    "    else:         \n",
    "        return None"
   ]
  },
  {
   "cell_type": "code",
   "execution_count": 11,
   "metadata": {},
   "outputs": [],
   "source": [
    "# đưa từ về dạng gốc\n",
    "def lemmatization(sentence):\n",
    "    # gắn thẻ các từ \n",
    "    pos_tagged = nltk.pos_tag(nltk.word_tokenize(sentence)) \n",
    "    #print(pos_tagged)\n",
    "    # chuyển các thẻ sang dạng dễ hiểu hơn, chi tiết thì print cái trên vs cái dưới rồi so sánh\n",
    "    wordnet_tagged = list(map(lambda x: (x[0], pos_tagger(x[1])), pos_tagged))\n",
    "    #print(wordnet_tagged)\n",
    " \n",
    "    lemmatized_sentence = []\n",
    "    for word, tag in wordnet_tagged:\n",
    "        if tag is None:\n",
    "            # nếu từ đã có dạng nguyên thể và không phải stopword thì cứ thêm vào\n",
    "            word_lemmed = word\n",
    "        else:       \n",
    "            # từ chưa có dạng nguyên thể và không phải stopword thì chuyển về nguyên thể rồi thêm\n",
    "            word_lemmed = lemmatizer.lemmatize(word, tag)\n",
    "        if (word_lemmed not in stop) and (word_lemmed in wordlist_lowercased):\n",
    "            lemmatized_sentence.append(word_lemmed)\n",
    "    return lemmatized_sentence"
   ]
  },
  {
   "cell_type": "code",
   "execution_count": 12,
   "metadata": {},
   "outputs": [],
   "source": [
    "# tách dấu chấm ra thành một từ riêng\n",
    "def cham(chuoi):\n",
    "    a=\"\\.\"\n",
    "    b=' .'\n",
    "    chuoi = re.sub(a, b, chuoi)\n",
    "    a=\"\\.\"\n",
    "    b='. '\n",
    "    chuoi = re.sub(a, b, chuoi)\n",
    "    chuoi=chuoi.lower()\n",
    "    return chuoi"
   ]
  },
  {
   "cell_type": "code",
   "execution_count": null,
   "metadata": {},
   "outputs": [],
   "source": [
    "# tạo kho từ tiếng anh + một số tên riêng quan trọng\n",
    "wordlist_lowercased = set(i.lower() for i in brown.words())|{\"biden\",\"ukraine\",\"kiev\",\"kyiv\",\"zelensky\",\"putin\"}\n",
    "# tạo list lưu vocaburary\n",
    "vocabulary=[]\n",
    "# tạo file lưu data\n",
    "f = open(\"C:/Users/User/Documents/Machine Learning/social listening project/data_stopword_vs_lemma.csv\",mode='w',encoding='utf-8')\n",
    "f.close()\n",
    "# mở file data và lấy dữ liệu dưới dạng list l\n",
    "with open(\"C:/Users/User/Documents/Machine Learning/social listening project/Data dùng được.csv\",encoding=\"utf-8\") as f:\n",
    "    reader = csv.reader(f)\n",
    "    l = [row for row in reader]\n",
    "\n",
    "# lưu những rows dùng được đồng thời thêm từ mới vào vocab\n",
    "with open(\"C:/Users/User/Documents/Machine Learning/social listening project/data_stopword_vs_lemma.csv\",mode=\"a\",encoding='utf-8') as out:\n",
    "    writer = csv.writer(out,delimiter=',',lineterminator='\\n')\n",
    "    count = 0\n",
    "    for i in range(0,len(l)):\n",
    "        a=lemmatization(cham(l[i][2]))\n",
    "        writer.writerow(a)\n",
    "        print(i)\n",
    "        # thêm những từ mới vào vocab\n",
    "        for j in a:\n",
    "            if j not in vocabulary:\n",
    "                vocabulary.append(j)"
   ]
  },
  {
   "cell_type": "code",
   "execution_count": 7,
   "metadata": {},
   "outputs": [],
   "source": [
    "# tạo và lưu file\n",
    "f = open(\"C:/Users/User/Documents/Machine Learning/social listening project/vocab.csv\",mode='w',encoding='utf-8')\n",
    "f.close()\n",
    "with open(\"C:/Users/User/Documents/Machine Learning/social listening project/vocab.csv\",mode=\"a\",encoding=\"utf-8\") as out:\n",
    "    writer = csv.writer(out,lineterminator='\\n')\n",
    "    for i in vocabulary:\n",
    "        writer.writerow([i])"
   ]
  }
 ],
 "metadata": {
  "kernelspec": {
   "display_name": "Python 3.10.1 64-bit",
   "language": "python",
   "name": "python3"
  },
  "language_info": {
   "codemirror_mode": {
    "name": "ipython",
    "version": 3
   },
   "file_extension": ".py",
   "mimetype": "text/x-python",
   "name": "python",
   "nbconvert_exporter": "python",
   "pygments_lexer": "ipython3",
   "version": "3.10.1"
  },
  "orig_nbformat": 4,
  "vscode": {
   "interpreter": {
    "hash": "afb734500600fd355917ca529030176ea0ca205570884b88f2f6f7d791fd3fbe"
   }
  }
 },
 "nbformat": 4,
 "nbformat_minor": 2
}
