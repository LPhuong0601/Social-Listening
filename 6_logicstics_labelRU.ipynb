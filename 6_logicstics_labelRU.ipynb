{
 "cells": [
  {
   "cell_type": "code",
   "execution_count": 1,
   "metadata": {},
   "outputs": [],
   "source": [
    "import torch\n",
    "import numpy as np\n",
    "import csv\n",
    "import matplotlib.pyplot as plt\n",
    "from tqdm.notebook import tqdm"
   ]
  },
  {
   "cell_type": "code",
   "execution_count": 2,
   "metadata": {},
   "outputs": [
    {
     "name": "stdout",
     "output_type": "stream",
     "text": [
      "Using cpu device\n"
     ]
    }
   ],
   "source": [
    "device = \"cuda\" if torch.cuda.is_available() else \"cpu\"\n",
    "print(f\"Using {device} device\")"
   ]
  },
  {
   "cell_type": "code",
   "execution_count": 3,
   "metadata": {},
   "outputs": [],
   "source": [
    "with open(\"C:/Users/User/Documents/Machine Learning/social listening project/tf_idf.csv\", encoding=\"utf-8\") as f:\n",
    "    # đọc file vector, đưa về dạng array[float]\n",
    "    reader = csv.reader(f)\n",
    "    data_list = [row for row in reader]\n",
    "    data_list = np.asarray(data_list, dtype=np.float64)\n",
    "    # chia thành các tập \n",
    "    vector_training_set = np.array([i for i in data_list[:4000]])\n",
    "    vector_validation_set = np.array([i for i in data_list[4001:5500]])\n",
    "    vector_test_set = np.array([i for i in data_list[5501:]])\n",
    "f.close()"
   ]
  },
  {
   "cell_type": "code",
   "execution_count": 4,
   "metadata": {},
   "outputs": [
    {
     "name": "stderr",
     "output_type": "stream",
     "text": [
      "C:\\Users\\User\\AppData\\Local\\Temp\\ipykernel_10052\\3179549242.py:2: UserWarning: Failed to initialize NumPy: module compiled against API version 0x10 but this version of numpy is 0xf (Triggered internally at  ..\\torch\\csrc\\utils\\tensor_numpy.cpp:68.)\n",
      "  data_list=torch.tensor(data_list,dtype=torch.float64)\n"
     ]
    }
   ],
   "source": [
    "#chuyen array ve tensor\n",
    "data_list=torch.tensor(data_list,dtype=torch.float64)\n",
    "vector_training_set=torch.tensor(vector_training_set,dtype=torch.float64)\n",
    "vector_validation_set=torch.tensor(vector_validation_set,dtype=torch.float64)\n",
    "vector_test_set=torch.tensor(vector_test_set,dtype=torch.float64)"
   ]
  },
  {
   "cell_type": "code",
   "execution_count": 5,
   "metadata": {},
   "outputs": [],
   "source": [
    "with open(\"C:/Users/User/Documents/Machine Learning/social listening project/Data dùng được.csv\", encoding=\"utf-8\") as f:\n",
    "    reader = csv.reader(f)\n",
    "    label_list = [row for row in reader]\n",
    "    # 0 = Ukraina and 1 = Nga\n",
    "    for i in range(0,len(label_list)):\n",
    "        if label_list[i][1]==\"U\":\n",
    "            label_list[i]=0\n",
    "        else: \n",
    "            label_list[i]=1\n",
    "    # chia thành các tập\n",
    "    label_training_set = [i for i in label_list[:4000]]\n",
    "    label_validation_set = [i for i in label_list[4001:5500]]\n",
    "    label_test_set = [i for i in label_list[5501:]]\n",
    "f.close()"
   ]
  },
  {
   "cell_type": "code",
   "execution_count": 6,
   "metadata": {},
   "outputs": [],
   "source": [
    "#chuyen array ve tensor\n",
    "label_list=torch.tensor(label_list,dtype=torch.float64)\n",
    "label_training_set=torch.tensor(label_training_set,dtype=torch.float64)\n",
    "label_validation_set=torch.tensor(label_validation_set,dtype=torch.float64)\n",
    "label_test_set=torch.tensor(label_test_set,dtype=torch.float64)"
   ]
  },
  {
   "cell_type": "code",
   "execution_count": 7,
   "metadata": {},
   "outputs": [],
   "source": [
    "X_train = vector_training_set\n",
    "# thêm hệ số bias\n",
    "X_train = torch.hstack((torch.ones(len(X_train),1), X_train))\n",
    "y_train = label_training_set"
   ]
  },
  {
   "cell_type": "code",
   "execution_count": 8,
   "metadata": {},
   "outputs": [],
   "source": [
    "X_val = vector_validation_set\n",
    "# thêm hệ số bias\n",
    "X_val = torch.hstack((torch.ones(len(X_val),1), X_val))\n",
    "y_val = label_validation_set"
   ]
  },
  {
   "cell_type": "code",
   "execution_count": 9,
   "metadata": {},
   "outputs": [],
   "source": [
    "X_test = vector_test_set\n",
    "# thêm hệ số bias\n",
    "X_test = torch.hstack((torch.ones(len(X_test),1), X_test))\n",
    "y_test = label_test_set"
   ]
  },
  {
   "cell_type": "code",
   "execution_count": 10,
   "metadata": {},
   "outputs": [],
   "source": [
    "def sigmoid(s):\n",
    "    return (1/(1 + 1e-6 + torch.exp(-s)))"
   ]
  },
  {
   "cell_type": "code",
   "execution_count": 11,
   "metadata": {},
   "outputs": [],
   "source": [
    "def loss_function(w,X_train,y_train):\n",
    "    z = sigmoid(torch.matmul(w,torch.transpose(X_train,0,1)))\n",
    "    loss = torch.sum(-(y_train*torch.log(z)+(1-y_train)*torch.log(1-z)))\n",
    "    return loss"
   ]
  },
  {
   "cell_type": "code",
   "execution_count": 12,
   "metadata": {},
   "outputs": [],
   "source": [
    "\n",
    "def logistic_sigmoid_regression(X_train, y_train, w_init, eta, tol = 1e-4, max_count = 10000):\n",
    "    w = [w_init]    # vector trọng số\n",
    "    #it = 0\n",
    "    N = X_train.shape[0]  # số đối tượng\n",
    "    count = 0   # đến số vong lặp\n",
    "    check_w_after = 20  # check lại w sau mỗi 20 lần lặp\n",
    "    loss_list = []\n",
    "    count_list = []\n",
    "    for j in range(0,max_count):\n",
    "        # mix data \n",
    "        mix_id = torch.randperm(N)\n",
    "        # cập nhật w sau mỗi vòng lặp\n",
    "        for i in mix_id:\n",
    "            xi = X_train[i]\n",
    "            yi = y_train[i]\n",
    "            zi = sigmoid(torch.dot(w[-1],xi))\n",
    "            w_new = w[-1] + eta*(yi - zi)*xi\n",
    "            count += 1\n",
    "            # điều kiện dừng vòng lặp\n",
    "            if count%check_w_after == 0:     \n",
    "                loss_list.append(loss_function(w_new,X_train,y_train))  \n",
    "                count_list.append(count)\n",
    "                if torch.linalg.norm(w_new - w[-check_w_after])<tol:\n",
    "                    return w[-1],loss_list,count_list\n",
    "            w.append(w_new)\n",
    "    return w[-1],loss_list,count_list"
   ]
  },
  {
   "cell_type": "code",
   "execution_count": 13,
   "metadata": {},
   "outputs": [],
   "source": [
    "eta = .005   # learning rate = 0.01\n",
    "d = X_train.shape[1]\n",
    "w_init = torch.randn(d,dtype=torch.float64)  # lấy random một vector w\n",
    "w, loss_list, count_list = logistic_sigmoid_regression(X_train, y_train, w_init, eta)\n",
    "w = w.reshape((1,-1))"
   ]
  },
  {
   "cell_type": "code",
   "execution_count": null,
   "metadata": {},
   "outputs": [],
   "source": [
    "loss = []"
   ]
  },
  {
   "cell_type": "code",
   "execution_count": null,
   "metadata": {},
   "outputs": [],
   "source": [
    "for i in range(0,len(loss_list)):\n",
    "    loss.append(loss_list[i].item())"
   ]
  },
  {
   "cell_type": "code",
   "execution_count": null,
   "metadata": {},
   "outputs": [
    {
     "data": {
      "text/plain": [
       "[<matplotlib.lines.Line2D at 0x131fdbe4c40>]"
      ]
     },
     "execution_count": 31,
     "metadata": {},
     "output_type": "execute_result"
    },
    {
     "data": {
      "image/png": "[encoded data removed]",
      "text/plain": [
       "<Figure size 432x288 with 1 Axes>"
      ]
     },
     "metadata": {
      "needs_background": "light"
     },
     "output_type": "display_data"
    }
   ],
   "source": [
    "plt.plot(count_list,loss)"
   ]
  },
  {
   "cell_type": "code",
   "execution_count": null,
   "metadata": {},
   "outputs": [],
   "source": [
    "predict = sigmoid(torch.matmul(w,torch.transpose(X_test,0,1)))\n",
    "count = 0\n",
    "for i in range(0,len(predict[0])):\n",
    "    x = predict[0][i]\n",
    "    y = y_test[i]\n",
    "    s = x + y\n",
    "    if (x + y >=1.5) or (x + y <0.5):\n",
    "        count+=1\n",
    "    #print(\"%.4f\" %predict[0][i],y_test[i])\n",
    "print(count)\n",
    "print(len(y_test))\n",
    "print(count/len(y_test))"
   ]
  }
 ],
 "metadata": {
  "kernelspec": {
   "display_name": "Python 3.10.1 64-bit",
   "language": "python",
   "name": "python3"
  },
  "language_info": {
   "codemirror_mode": {
    "name": "ipython",
    "version": 3
   },
   "file_extension": ".py",
   "mimetype": "text/x-python",
   "name": "python",
   "nbconvert_exporter": "python",
   "pygments_lexer": "ipython3",
   "version": "3.10.1"
  },
  "orig_nbformat": 4,
  "vscode": {
   "interpreter": {
    "hash": "afb734500600fd355917ca529030176ea0ca205570884b88f2f6f7d791fd3fbe"
   }
  }
 },
 "nbformat": 4,
 "nbformat_minor": 2
}
