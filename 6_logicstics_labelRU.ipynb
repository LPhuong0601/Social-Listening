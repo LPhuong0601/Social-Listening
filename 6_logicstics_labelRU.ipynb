{
 "cells": [
  {
   "cell_type": "code",
   "execution_count": 1,
   "metadata": {},
   "outputs": [],
   "source": [
    "import numpy as np\n",
    "import csv"
   ]
  },
  {
   "cell_type": "code",
   "execution_count": 2,
   "metadata": {},
   "outputs": [],
   "source": [
    "with open(\"C:/Users/User/Documents/Machine Learning/social listening project/tf_idf.csv\", encoding=\"utf-8\") as f:\n",
    "    # đọc file vector, đưa về dạng array[float]\n",
    "    reader = csv.reader(f)\n",
    "    data_list = [row for row in reader]\n",
    "    data_list = np.asarray(data_list, dtype=np.float64)\n",
    "    # chia thành các tập \n",
    "    vector_training_set = np.array([i for i in data_list[:4000]])\n",
    "    vector_validation_set = np.array([i for i in data_list[4001:5500]])\n",
    "    vector_test_set = np.array([i for i in data_list[5501:]])\n",
    "f.close()\n"
   ]
  },
  {
   "cell_type": "code",
   "execution_count": 3,
   "metadata": {},
   "outputs": [],
   "source": [
    "with open(\"C:/Users/User/Documents/Machine Learning/social listening project/Data dùng được.csv\", encoding=\"utf-8\") as f:\n",
    "    reader = csv.reader(f)\n",
    "    label_list = [row for row in reader]\n",
    "    # 0 = Ukraina and 1 = Nga\n",
    "    for i in range(0,len(label_list)):\n",
    "        if label_list[i][1]==\"U\":\n",
    "            label_list[i]=0\n",
    "        else: \n",
    "            label_list[i]=1\n",
    "    # chia thành các tập\n",
    "    label_training_set = [i for i in label_list[:4000]]\n",
    "    label_validation_set = [i for i in label_list[4001:5500]]\n",
    "    label_test_set = [i for i in label_list[5501:]]\n",
    "f.close()"
   ]
  },
  {
   "cell_type": "code",
   "execution_count": 4,
   "metadata": {},
   "outputs": [],
   "source": [
    "X_train = vector_training_set\n",
    "# thêm hệ số bias\n",
    "X_train = np.concatenate((np.ones((X_train.shape[0],1)), X_train), axis = 1)\n",
    "y_train = label_training_set"
   ]
  },
  {
   "cell_type": "code",
   "execution_count": 5,
   "metadata": {},
   "outputs": [],
   "source": [
    "X_val = vector_validation_set\n",
    "# thêm hệ số bias\n",
    "X_val = np.concatenate((np.ones((X_val.shape[0],1)), X_val), axis = 1)\n",
    "y_val = label_validation_set"
   ]
  },
  {
   "cell_type": "code",
   "execution_count": 6,
   "metadata": {},
   "outputs": [],
   "source": [
    "X_test = vector_test_set\n",
    "# thêm hệ số bias\n",
    "X_test = np.concatenate((np.ones((X_test.shape[0],1)), X_test), axis = 1)\n",
    "y_test = label_test_set"
   ]
  },
  {
   "cell_type": "code",
   "execution_count": 69,
   "metadata": {},
   "outputs": [],
   "source": [
    "def sigmoid(s):\n",
    "    return 1/(1 + 1e-6 + np.exp(-s))\n",
    "    # Thêm 1e-6 để tránh cho mẫu số làm tròn tới 0 "
   ]
  },
  {
   "cell_type": "code",
   "execution_count": 98,
   "metadata": {},
   "outputs": [],
   "source": [
    "def loss_function(w,X_train,y_train):\n",
    "    loss = 0\n",
    "    for i in range(0,len(y_train)):\n",
    "        z = sigmoid(np.dot(w, X_train[i].T))\n",
    "        loss = loss - (y_train[i]*np.log(z)+(1-y_train[i])*np.log(1-z))\n",
    "    return loss[0]"
   ]
  },
  {
   "cell_type": "code",
   "execution_count": 131,
   "metadata": {},
   "outputs": [],
   "source": [
    "def logistic_sigmoid_regression(X_train, y_train, w_init, eta, tol = 1e-4, max_count = 100000,X_val,y_val):\n",
    "    w = [w_init]    # vector trọng số\n",
    "    it = 0\n",
    "    N = X_train.shape[0]  # số đối tượng\n",
    "    d = X_train.shape[1]  # số feature trong một đối tượng\n",
    "    count = 0   # đến số vong lặp\n",
    "    check_w_after = 20  # check lại w sau mỗi 20 lần lặp\n",
    "    loss_list = []\n",
    "    count_list = []\n",
    "    while count < max_count:\n",
    "        # mix data \n",
    "        mix_id = np.random.permutation(N)\n",
    "        # cập nhật w sau mỗi vòng lặp \n",
    "        for i in mix_id:\n",
    "            xi = X_train[i]\n",
    "            yi = y_train[i]\n",
    "            zi = sigmoid(np.dot(w[-1], xi.T))\n",
    "            w_new = w[-1] + eta*(yi - zi)*xi\n",
    "            count += 1\n",
    "            # điều kiện dừng vòng lặp\n",
    "            if count%check_w_after == 0: \n",
    "                loss_list.append(loss_function(w_new,X_val,y_val))  \n",
    "                count_list.append(count)\n",
    "                if np.linalg.norm(w_new - w[-check_w_after])<tol:\n",
    "                    return w[-1],loss_list,count_list\n",
    "            w.append(w_new)\n",
    "    return w[-1],loss_list,count_list"
   ]
  },
  {
   "cell_type": "code",
   "execution_count": null,
   "metadata": {},
   "outputs": [],
   "source": [
    "eta = .01   # learning rate = 0.01\n",
    "d = X_train.shape[1]\n",
    "w_init = np.random.randn(1, d)  # lấy random một vector w\n",
    "w, loss_list, count_list = logistic_sigmoid_regression(X_train, y_train, w_init, eta,X_val,y_val)\n",
    "w = w.reshape((1,-1))\n",
    "print(w)\n",
    "# print(loss_list)\n",
    "# print(count_list)"
   ]
  },
  {
   "cell_type": "code",
   "execution_count": 134,
   "metadata": {},
   "outputs": [],
   "source": [
    "import matplotlib.pyplot as plt"
   ]
  },
  {
   "cell_type": "code",
   "execution_count": null,
   "metadata": {},
   "outputs": [],
   "source": [
    "plt.plot(count_list,loss_list)"
   ]
  },
  {
   "cell_type": "code",
   "execution_count": null,
   "metadata": {},
   "outputs": [],
   "source": [
    "#kiểm tra độ chính xác \n",
    "predict = sigmoid(np.dot(w, X_test.T))\n",
    "count = 0\n",
    "for i in range(0,len(predict[0])):\n",
    "    x = predict[0][i]\n",
    "    y = y_test[i]\n",
    "    s = x + y\n",
    "    if (x + y >=1.5) or (x + y <0.5):\n",
    "        count+=1\n",
    "    # print(\"%.4f\" %predict[0][i],y_test[i])\n",
    "print(count)\n",
    "print(len(y_test))\n",
    "print(count/len(y_test))"
   ]
  }
 ],
 "metadata": {
  "kernelspec": {
   "display_name": "Python 3.9.12 ('lp')",
   "language": "python",
   "name": "python3"
  },
  "language_info": {
   "codemirror_mode": {
    "name": "ipython",
    "version": 3
   },
   "file_extension": ".py",
   "mimetype": "text/x-python",
   "name": "python",
   "nbconvert_exporter": "python",
   "pygments_lexer": "ipython3",
   "version": "3.9.12"
  },
  "orig_nbformat": 4,
  "vscode": {
   "interpreter": {
    "hash": "0cf61435ac65ac02dae65e51d7487e18615b1918e9848794744e271fd52a3ab2"
   }
  }
 },
 "nbformat": 4,
 "nbformat_minor": 2
}
