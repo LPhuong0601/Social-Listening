{
 "cells": [
  {
   "cell_type": "code",
   "execution_count": 46,
   "metadata": {},
   "outputs": [],
   "source": [
    "from sklearn.preprocessing import OneHotEncoder\n",
    "from sklearn.preprocessing import LabelEncoder\n",
    "import csv"
   ]
  },
  {
   "cell_type": "code",
   "execution_count": null,
   "metadata": {},
   "outputs": [],
   "source": [
    "with open(\"C:/Users/User/Documents/Machine Learning/social listening project/vocab.csv\",encoding=\"utf-8\") as f:\n",
    "    reader = csv.reader(f)\n",
    "    l = [row for row in reader]\n",
    "f.close()\n",
    "vocab = []\n",
    "for i in range(0,len(l)):\n",
    "    vocab.append(l[i][0])"
   ]
  },
  {
   "cell_type": "code",
   "execution_count": 48,
   "metadata": {},
   "outputs": [
    {
     "name": "stdout",
     "output_type": "stream",
     "text": [
      "[[0. 0. 0. ... 0. 0. 0.]\n",
      " [0. 0. 0. ... 0. 0. 0.]\n",
      " [0. 0. 0. ... 0. 0. 0.]\n",
      " ...\n",
      " [0. 0. 0. ... 0. 0. 0.]\n",
      " [0. 0. 0. ... 0. 0. 0.]\n",
      " [0. 0. 0. ... 0. 0. 0.]]\n"
     ]
    }
   ],
   "source": [
    "# in từng biến ra để hiểu code nhé\n",
    "label_encoder = LabelEncoder()\n",
    "# tạo mảng số nguyên chứa số thứ tự các từ trong V\n",
    "integer_label_encoder = label_encoder.fit_transform(vocab)\n",
    "# chuyển mảng trên thành ma trận cột\n",
    "label_encoded = integer_label_encoder.reshape(len(integer_label_encoder),1)\n",
    "\n",
    "onehot_encoder = OneHotEncoder(sparse=False)\n",
    "# tạo ma trận với các hàng là các onehot vector\n",
    "onehot_encoded = onehot_encoder.fit_transform(label_encoded)\n",
    "print(onehot_encoded)"
   ]
  }
 ],
 "metadata": {
  "kernelspec": {
   "display_name": "Python 3.10.1 64-bit",
   "language": "python",
   "name": "python3"
  },
  "language_info": {
   "codemirror_mode": {
    "name": "ipython",
    "version": 3
   },
   "file_extension": ".py",
   "mimetype": "text/x-python",
   "name": "python",
   "nbconvert_exporter": "python",
   "pygments_lexer": "ipython3",
   "version": "3.10.1"
  },
  "orig_nbformat": 4,
  "vscode": {
   "interpreter": {
    "hash": "afb734500600fd355917ca529030176ea0ca205570884b88f2f6f7d791fd3fbe"
   }
  }
 },
 "nbformat": 4,
 "nbformat_minor": 2
}
