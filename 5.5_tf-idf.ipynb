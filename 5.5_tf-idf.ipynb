{
 "cells": [
  {
   "cell_type": "code",
   "execution_count": 23,
   "metadata": {},
   "outputs": [],
   "source": [
    "import csv\n",
    "import numpy as np"
   ]
  },
  {
   "cell_type": "code",
   "execution_count": 24,
   "metadata": {},
   "outputs": [],
   "source": [
    "with open(\"C:/Users/User/Documents/Machine Learning/social listening project/data_stopword_vs_lemma.csv\", encoding=\"utf-8\") as f:\n",
    "    reader = csv.reader(f)\n",
    "    data_list = [row for row in reader]\n",
    "f.close()"
   ]
  },
  {
   "cell_type": "code",
   "execution_count": 25,
   "metadata": {},
   "outputs": [],
   "source": [
    "with open(\"C:/Users/User/Documents/Machine Learning/social listening project/vocab.csv\", encoding=\"utf-8\") as f:\n",
    "    reader = csv.reader(f)\n",
    "    vocab_set = []\n",
    "    for i in reader:\n",
    "        vocab_set.append(i[0])\n",
    "f.close()"
   ]
  },
  {
   "cell_type": "code",
   "execution_count": 43,
   "metadata": {},
   "outputs": [],
   "source": [
    "def tf(doc_list):\n",
    "    tf_dict = {}\n",
    "    # loại các từ giống nhau để đếm\n",
    "    doc_set = set(doc_list)\n",
    "    doc_dict = {}\n",
    "    for i in doc_set:\n",
    "        doc_dict[i] = 0\n",
    "    for i in doc_list:\n",
    "        doc_dict[i]+=1\n",
    "    # tìm số lần xuất hiện nhiều nhất\n",
    "    present_max = 0\n",
    "    for i in doc_set:\n",
    "        if doc_dict[i]>present_max:\n",
    "            present_max = doc_dict[i]\n",
    "    # tính tf = số lần xuất hiện/số lần xuất hiện của từ xuất hiện nhiều nhất\n",
    "    for i in doc_list:\n",
    "            tf_dict[i] = doc_dict[i]/present_max\n",
    "    return tf_dict"
   ]
  },
  {
   "cell_type": "code",
   "execution_count": 27,
   "metadata": {},
   "outputs": [],
   "source": [
    "# idf\n",
    "idf_dict = {}\n",
    "for i in vocab_set:\n",
    "    present_vocab = 0\n",
    "    for j in data_list:\n",
    "        if i in j:\n",
    "            present_vocab +=1\n",
    "    idf_dict[i] = np.log(len(data_list)/present_vocab)  "
   ]
  },
  {
   "cell_type": "code",
   "execution_count": 48,
   "metadata": {},
   "outputs": [],
   "source": [
    "def tf_idf(doc_list):\n",
    "    tf_dict = tf(doc_list)\n",
    "    tf_idf_list = [i for i in vocab_set]\n",
    "    for i in range(0,len(vocab_set)):\n",
    "        if vocab_set[i] not in doc_list:\n",
    "            tf_idf_list[i] = 0\n",
    "        else:\n",
    "            tf_idf_list[i] = tf_dict[vocab_set[i]]*idf_dict[vocab_set[i]]\n",
    "    return tf_idf_list"
   ]
  },
  {
   "cell_type": "code",
   "execution_count": 49,
   "metadata": {},
   "outputs": [],
   "source": [
    "f = open(\"C:/Users/User/Documents/Machine Learning/social listening project/tf_idf.csv\",mode='w',encoding='utf-8')\n",
    "f.close()\n",
    "with open(\"C:/Users/User/Documents/Machine Learning/social listening project/tf_idf.csv\",mode=\"a\",encoding=\"utf-8\") as out:\n",
    "    writer = csv.writer(out,delimiter=',',lineterminator='\\n')\n",
    "    for i in data_list:\n",
    "        a = tf_idf(i)\n",
    "        writer.writerow(a)\n",
    "out.close()"
   ]
  }
 ],
 "metadata": {
  "kernelspec": {
   "display_name": "Python 3.10.1 64-bit",
   "language": "python",
   "name": "python3"
  },
  "language_info": {
   "codemirror_mode": {
    "name": "ipython",
    "version": 3
   },
   "file_extension": ".py",
   "mimetype": "text/x-python",
   "name": "python",
   "nbconvert_exporter": "python",
   "pygments_lexer": "ipython3",
   "version": "3.10.1"
  },
  "orig_nbformat": 4,
  "vscode": {
   "interpreter": {
    "hash": "afb734500600fd355917ca529030176ea0ca205570884b88f2f6f7d791fd3fbe"
   }
  }
 },
 "nbformat": 4,
 "nbformat_minor": 2
}
