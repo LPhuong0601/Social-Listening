{
 "cells": [
  {
   "cell_type": "code",
   "execution_count": 1,
   "metadata": {},
   "outputs": [],
   "source": [
    "import csv"
   ]
  },
  {
   "cell_type": "code",
   "execution_count": null,
   "metadata": {},
   "outputs": [],
   "source": [
    "# tạo file Data dùng được.csv\n",
    "f = open(\"C:/Users/User/Downloads/Data dùng được.csv\",mode='w',encoding='utf-8')\n",
    "f.close()\n",
    "# mở file data và lấy dữ liệu dưới dạng list l\n",
    "with open(\"C:/Users/User/Downloads/Data Russia-Ukraine.csv\",encoding=\"utf8\") as f:\n",
    "    reader = csv.reader(f)\n",
    "    l = [row for row in reader]\n",
    "f.close()\n",
    "# lưu những rows dùng được\n",
    "with open('C:/Users/User/Downloads/Data dùng được.csv',mode=\"a\",encoding='utf-8') as out:\n",
    "    writer = csv.writer(out,delimiter=',',lineterminator='\\n')\n",
    "    count = 0\n",
    "    for i in range(1,len(l)):\n",
    "        a = l[i][5]\n",
    "        # lưu những data phe Nga\n",
    "        if l[i][2]==\"1\":\n",
    "            count+=1\n",
    "            writer.writerow([count,\"N\",a.lower()])\n",
    "        # lưu những data phe Ukraine\n",
    "        if l[i][3]==\"1\":\n",
    "            count+=1\n",
    "            writer.writerow([count,\"U\",a.lower()])\n",
    "        print(i)\n",
    "out.close()\n"
   ]
  }
 ],
 "metadata": {
  "kernelspec": {
   "display_name": "Python 3.10.1 64-bit",
   "language": "python",
   "name": "python3"
  },
  "language_info": {
   "codemirror_mode": {
    "name": "ipython",
    "version": 3
   },
   "file_extension": ".py",
   "mimetype": "text/x-python",
   "name": "python",
   "nbconvert_exporter": "python",
   "pygments_lexer": "ipython3",
   "version": "3.10.1"
  },
  "orig_nbformat": 4,
  "vscode": {
   "interpreter": {
    "hash": "afb734500600fd355917ca529030176ea0ca205570884b88f2f6f7d791fd3fbe"
   }
  }
 },
 "nbformat": 4,
 "nbformat_minor": 2
}
