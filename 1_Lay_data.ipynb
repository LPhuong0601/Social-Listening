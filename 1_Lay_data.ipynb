{
 "cells": [
  {
   "cell_type": "code",
   "execution_count": 15,
   "metadata": {},
   "outputs": [],
   "source": [
    "from selenium import webdriver\n",
    "import time\n",
    "import csv\n",
    "import chromedriver_binary\n",
    "from selenium.webdriver.common.keys import Keys\n",
    "from selenium.webdriver.common.by import By\n",
    "from selenium.webdriver.support import expected_conditions as EC\n",
    "from datetime import date,timedelta\n",
    "from urllib.parse import quote\n",
    "from googletrans import Translator"
   ]
  },
  {
   "cell_type": "code",
   "execution_count": 16,
   "metadata": {},
   "outputs": [],
   "source": [
    "until=date.today()\n",
    "since= until-timedelta(days=1)\n",
    "keyword = input(\"keyword = \")"
   ]
  },
  {
   "cell_type": "code",
   "execution_count": null,
   "metadata": {},
   "outputs": [],
   "source": [
    "browser = webdriver.Chrome()\n",
    "f=open(\"C:/Users/User/Documents/Machine Learning/social listening project/tw.csv\",mode='w',encoding='utf-8')\n",
    "f.close()\n",
    "len_file = 0\n",
    "tran=Translator()\n",
    "#vòng lặp lưu data vào file\n",
    "with open(\"C:/Users/User/Documents/Machine Learning/social listening project/tw.csv\",mode='a',encoding = 'utf-8') as out:\n",
    "    writer=csv.writer(out,delimiter=',',lineterminator='\\n')\n",
    "    writer.writerow(['stt','noi dung'])\n",
    "    while(len_file<50000):\n",
    "        url = \"https://twitter.com/search?q={}%20until%3A{}%20since%3A{}&src=typed_query&f=live\".format(quote(keyword), until, since)\n",
    "        browser.get(url)\n",
    "        htmlElem = browser.find_element(by=By.TAG_NAME, value='html')\n",
    "        contented = []\n",
    "        len_day = 0\n",
    "        #vòng lặp lấy dữ liệu theo mỗi 2 ngày, mỗi lần lấy >=500 data\n",
    "        while(len_day<500):\n",
    "            try:\n",
    "                local_contents = browser.find_elements(by=By.CSS_SELECTOR,value='[data-testid=\"tweetText\"]')\n",
    "                local_contents = [i.text for i in local_contents if i.text not in contented] \n",
    "            except:\n",
    "                browser.implicitly_wait(3)\n",
    "                continue\n",
    "            #so sánh để tránh lặp dữ liệu\n",
    "            if len(contented)>20:\n",
    "                del contented[0:len(local_contents)]\n",
    "            contented.extend(local_contents)\n",
    "            for i in local_contents:\n",
    "                len_file+=1\n",
    "                len_day+=1\n",
    "                #writer.writerow([len_file,tran.translate(str(i)).text])\n",
    "                writer.writerow([len_file,i])\n",
    "                print(len_file)\n",
    "            htmlElem.send_keys(Keys.PAGE_DOWN)\n",
    "            htmlElem.send_keys(Keys.PAGE_DOWN)\n",
    "            htmlElem.send_keys(Keys.PAGE_DOWN)\n",
    "        #cập nhật 2 ngày trước đó\n",
    "        until = until - timedelta(days=2)\n",
    "        since = since - timedelta(days=2)  \n",
    "out.close()"
   ]
  }
 ],
 "metadata": {
  "kernelspec": {
   "display_name": "Python 3.10.1 64-bit",
   "language": "python",
   "name": "python3"
  },
  "language_info": {
   "codemirror_mode": {
    "name": "ipython",
    "version": 3
   },
   "file_extension": ".py",
   "mimetype": "text/x-python",
   "name": "python",
   "nbconvert_exporter": "python",
   "pygments_lexer": "ipython3",
   "version": "3.10.1"
  },
  "orig_nbformat": 4,
  "vscode": {
   "interpreter": {
    "hash": "afb734500600fd355917ca529030176ea0ca205570884b88f2f6f7d791fd3fbe"
   }
  }
 },
 "nbformat": 4,
 "nbformat_minor": 2
}
