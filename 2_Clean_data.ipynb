{
 "cells": [
  {
   "cell_type": "code",
   "execution_count": 6,
   "metadata": {},
   "outputs": [],
   "source": [
    "import re \n",
    "import csv"
   ]
  },
  {
   "cell_type": "code",
   "execution_count": 7,
   "metadata": {},
   "outputs": [],
   "source": [
    "def clean(chuoi):\n",
    "    a=\"(’|')ve\"\n",
    "    b=' have'\n",
    "    chuoi = re.sub(a, b, chuoi)\n",
    "    a=\"y(’|')all\"\n",
    "    b='you all'\n",
    "    chuoi = re.sub(a, b, chuoi)\n",
    "    a=\"(’|')ll\"\n",
    "    b=' will'\n",
    "    chuoi = re.sub(a, b, chuoi)\n",
    "    a=\"(’|')m\"\n",
    "    b=' am'\n",
    "    chuoi = re.sub(a, b, chuoi)\n",
    "    a=\"(’|')d\"\n",
    "    b=' would'\n",
    "    chuoi = re.sub(a, b, chuoi)\n",
    "    a=\"(’|')re\"\n",
    "    b=' are'\n",
    "    chuoi = re.sub(a, b, chuoi)\n",
    "    a=\"n(’|')t\"\n",
    "    b=' not'\n",
    "    chuoi = re.sub(a, b, chuoi)\n",
    "    pattern = \"(\\w+:\\/\\/\\S+)|((@|#)\\S+)|(:\\w)|:|(\\[.*\\])|(\\s+\\s)|(@\\s*)|(\\S*\\.com\\S*)|([^\\w^\\s^#^%^?^.^!^,^'^\\$^\\/^&^-])|([^\\w^\\s^#^%]{2,})|([k|K]*)|(\\^)\"\n",
    "    replace = ''\n",
    "    chuoi = re.sub(pattern, replace, chuoi)\n",
    "    return chuoi"
   ]
  },
  {
   "cell_type": "code",
   "execution_count": null,
   "metadata": {},
   "outputs": [],
   "source": [
    "f=open(\"C:/Users/User/Documents/Machine Learning/social listening project/DataXinSoCleaned.csv\",mode='w',encoding='utf-8')\n",
    "f.close()\n",
    "with open('C:/Users/User/Documents/Machine Learning/social listening project/DataXinSo.csv','r',encoding='utf-8') as f:\n",
    "    reader=csv.reader(f)\n",
    "    l=[row for row in reader]\n",
    "f.close()\n",
    "\n",
    "with open('C:/Users/User/Documents/Machine Learning/social listening project/DataXinSoCleaned.csv',mode=\"a\",encoding='utf-8') as out:\n",
    "    writer=csv.writer(out,delimiter=',',lineterminator='\\n')\n",
    "    count = 0\n",
    "    #for i in range(len(l)):\n",
    "    for i in range(1,len(l)):\n",
    "        a = clean(l[i][1])\n",
    "        if a.strip():\n",
    "            count+=1\n",
    "            writer.writerow([count,a])\n",
    "        print(i)\n",
    "out.close()"
   ]
  },
  {
   "cell_type": "code",
   "execution_count": 10,
   "metadata": {},
   "outputs": [
    {
     "name": "stdout",
     "output_type": "stream",
     "text": [
      "While the under-counting of UI benefits is well-known, the 𝐝𝐢𝐬𝐭𝐫𝐢𝐛𝐮𝐭𝐢𝐨𝐧 is not. Focusing on 2020, the CPS is most likely to miss UI benefits at the very bottom of the  distribution  resulting in $170 billion of missed benefits to bottom 2 deciles. \n"
     ]
    }
   ],
   "source": [
    "with open('C:/Users/User/Documents/Machine Learning/social listening project/DataXinSoCleaned.csv',mode=\"r\",encoding='utf-8') as out:\n",
    "    reader=csv.reader(out)\n",
    "    l=[row for row in reader]\n",
    "    #for i in l:\n",
    "    #    print(i[1])\n",
    "    print(l[6743][1])\n",
    "out.close()"
   ]
  },
  {
   "cell_type": "code",
   "execution_count": 53,
   "metadata": {},
   "outputs": [
    {
     "name": "stdout",
     "output_type": "stream",
     "text": [
      " Congratulations on your winning! Click here for the DL of the original smartphone wallpaper ↓ \"Mintia x ONE PIECE FILM RED\" collaboration package is also on sale!Please check\n"
     ]
    }
   ],
   "source": [
    "a = l[16][1]\n",
    "pattern = '\\s*\\s'\n",
    "replace = ' '\n",
    "new_string = re.sub(pattern, replace, a)\n",
    "print(new_string)"
   ]
  }
 ],
 "metadata": {
  "kernelspec": {
   "display_name": "Python 3.10.1 64-bit",
   "language": "python",
   "name": "python3"
  },
  "language_info": {
   "codemirror_mode": {
    "name": "ipython",
    "version": 3
   },
   "file_extension": ".py",
   "mimetype": "text/x-python",
   "name": "python",
   "nbconvert_exporter": "python",
   "pygments_lexer": "ipython3",
   "version": "3.10.1"
  },
  "orig_nbformat": 4,
  "vscode": {
   "interpreter": {
    "hash": "afb734500600fd355917ca529030176ea0ca205570884b88f2f6f7d791fd3fbe"
   }
  }
 },
 "nbformat": 4,
 "nbformat_minor": 2
}
